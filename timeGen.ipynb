{
 "cells": [
  {
   "cell_type": "code",
   "execution_count": 123,
   "outputs": [],
   "source": [
    "import datetime\n",
    "import time\n",
    "import TimeEncoder\n",
    "import pandas as pd\n",
    "\n",
    "# Generating the DataFrame with dates for test\n",
    "range_of_dates = pd.date_range(start=\"2017-01-01 00:00:00\", end=\"2017-01-01 23:59:59\", freq='1s')\n",
    "\n",
    "time_list = []\n",
    "for i in range(len(range_of_dates)):\n",
    "    time_list.append(range_of_dates[i].time())\n",
    "\n",
    "# create a sequence of day numbers\n",
    "X = pd.DataFrame(index=range_of_dates)\n",
    "X[\"day_nr\"] = range(len(X))\n",
    "X[\"day_of_year\"] = X.index.day_of_year\n",
    "# print(\"X : \",'\\n',type(X['day_nr']))\n",
    "\n",
    "tester = TimeEncoder.TimeEncoder()\n",
    "test01= tester.daySin(X['day_nr'])\n",
    "test02 = tester.dayCos(X['day_nr'])\n",
    "\n",
    "df1 = pd.DataFrame(test01)\n",
    "df2 = pd.DataFrame(test02)\n",
    "df1.rename(columns={\"day_nr\":\"time_sin\"}, inplace=True)\n",
    "df2.rename(columns={\"day_nr\":\"time_cos\"}, inplace=True)\n",
    "\n",
    "df_concat = pd.concat([df1, df2], axis=1)\n",
    "\n",
    "df_concat['time'] = time_list\n",
    "df = df_concat.reset_index(drop=True)\n",
    "# df.to_csv(\"time_comparison_table.csv\")"
   ],
   "metadata": {
    "collapsed": false,
    "pycharm": {
     "name": "#%%\n"
    }
   }
  },
  {
   "cell_type": "code",
   "execution_count": 152,
   "outputs": [
    {
     "name": "stdout",
     "output_type": "stream",
     "text": [
      "365\n"
     ]
    }
   ],
   "source": [
    "range_of_year = pd.date_range(start=\"2021-01-01\", end=\"2021-12-31\", freq='D')\n",
    "print(len(range_of_year))\n",
    "beta = pd.DataFrame(index=range_of_year)\n",
    "beta['day_of_year'] = beta.index.day_of_year\n",
    "beta_sin = tester.yearSin(beta['day_of_year'])\n",
    "beta_cos = tester.yearCos(beta['day_of_year'])\n",
    "df_beta_s = pd.DataFrame(beta_sin)\n",
    "df_beta_s.rename(columns={'day_of_year':'sin_year'}, inplace=True)\n",
    "\n",
    "df_beta_c = pd.DataFrame(beta_cos)\n",
    "df_beta_c.rename(columns={'day_of_year':'cos_year'}, inplace=True)\n",
    "beta_concat = pd.concat([beta,df_beta_s,df_beta_c], axis=1)\n",
    "beta_concat = beta_concat.reset_index(drop=True)\n",
    "beta_concat\n",
    "beta_concat.to_csv('normal_year_table.csv')"
   ],
   "metadata": {
    "collapsed": false,
    "pycharm": {
     "name": "#%%\n"
    }
   }
  },
  {
   "cell_type": "code",
   "execution_count": 255,
   "outputs": [
    {
     "data": {
      "text/plain": "            day_of_year\n2021-01-01            1\n2021-01-02            2\n2021-01-03            3\n2021-01-04            4\n2021-01-05            5\n...                 ...\n2021-12-27          361\n2021-12-28          362\n2021-12-29          363\n2021-12-30          364\n2021-12-31          365\n\n[365 rows x 1 columns]",
      "text/html": "<div>\n<style scoped>\n    .dataframe tbody tr th:only-of-type {\n        vertical-align: middle;\n    }\n\n    .dataframe tbody tr th {\n        vertical-align: top;\n    }\n\n    .dataframe thead th {\n        text-align: right;\n    }\n</style>\n<table border=\"1\" class=\"dataframe\">\n  <thead>\n    <tr style=\"text-align: right;\">\n      <th></th>\n      <th>day_of_year</th>\n    </tr>\n  </thead>\n  <tbody>\n    <tr>\n      <th>2021-01-01</th>\n      <td>1</td>\n    </tr>\n    <tr>\n      <th>2021-01-02</th>\n      <td>2</td>\n    </tr>\n    <tr>\n      <th>2021-01-03</th>\n      <td>3</td>\n    </tr>\n    <tr>\n      <th>2021-01-04</th>\n      <td>4</td>\n    </tr>\n    <tr>\n      <th>2021-01-05</th>\n      <td>5</td>\n    </tr>\n    <tr>\n      <th>...</th>\n      <td>...</td>\n    </tr>\n    <tr>\n      <th>2021-12-27</th>\n      <td>361</td>\n    </tr>\n    <tr>\n      <th>2021-12-28</th>\n      <td>362</td>\n    </tr>\n    <tr>\n      <th>2021-12-29</th>\n      <td>363</td>\n    </tr>\n    <tr>\n      <th>2021-12-30</th>\n      <td>364</td>\n    </tr>\n    <tr>\n      <th>2021-12-31</th>\n      <td>365</td>\n    </tr>\n  </tbody>\n</table>\n<p>365 rows × 1 columns</p>\n</div>"
     },
     "execution_count": 255,
     "metadata": {},
     "output_type": "execute_result"
    }
   ],
   "source": [
    "beta"
   ],
   "metadata": {
    "collapsed": false,
    "pycharm": {
     "name": "#%%\n"
    }
   }
  },
  {
   "cell_type": "code",
   "execution_count": 297,
   "outputs": [],
   "source": [
    "\"\"\"인풋 데이터를 받고 함수로 처리\"\"\"\n",
    "\"\"\"시간 데이터에서 시간 값만 추출해서 time comparison_table과 비교해\n",
    "sin cos 값을 리턴하는 함수 만들기\"\"\"\n",
    "import re\n",
    "from datetime import date\n",
    "\n",
    "class TimeEncoder:\n",
    "\n",
    "    # pandas series를 input parameter로 받고 list를 return\n",
    "    def time2SinCos(time_data : pd.Series) :\n",
    "\n",
    "        len_data = len(time_data)\n",
    "        alpha = time_data[0] # 문자열에서 시간이 위치하는 인덱스를 찾기 위한 변수\n",
    "        time_location = (re.search(r'\\d{2}:', alpha).span(0)[0])# 시간 데이터 인덱스\n",
    "\n",
    "        # 시간별 sin-cos 비교 데이터\n",
    "\n",
    "        time_comparison_data = pd.read_csv('time_comparison_table.csv')\n",
    "\n",
    "        sin_list = []\n",
    "        cos_list = []\n",
    "\n",
    "        for k in range(len_data):\n",
    "            temp = time_data[k]\n",
    "            time_extraction = temp[time_location:time_location+8]\n",
    "            # print(time_extraction)\n",
    "\n",
    "            x = time_extraction\n",
    "            y = int(x[0:2])*3600 + int(x[3:5])*60 + int(x[6:8])\n",
    "            # print(\"y : \",y, '\\n')\n",
    "            sin = time_comparison_data.iloc[y].time_sin\n",
    "            cos = time_comparison_data.iloc[y].time_cos\n",
    "            sin_list.append(sin)\n",
    "            cos_list.append(cos)\n",
    "            # print(\"sin : \",sin,'\\n')\n",
    "            # print(\"cos : \",cos,'\\n')\n",
    "\n",
    "        return sin_list, cos_list\n",
    "\n",
    "    # 365일을 갖는 평년을 위한 메서드\n",
    "    def day2SinCos(time_data:pd.Series):\n",
    "\n",
    "        len_day = len(time_data)\n",
    "        alpha = time_data[0]\n",
    "        l = (re.search(r'\\d{4}-\\d{2}-\\d{2}', alpha).span(0)[0])# 시간 데이터 인덱스\n",
    "\n",
    "        normal_year = pd.read_csv('normal_year_table.csv')\n",
    "        # leap_year = pd.read_csv('leap_year_table.csv') # 윤년\n",
    "\n",
    "        day_sin =[]\n",
    "        day_cos = []\n",
    "        for k in range(len_day):\n",
    "\n",
    "            temp = time_data[k]\n",
    "\n",
    "            time_temp1 = date(int(temp[l:l+4]), int(temp[l+5:l+7]),int(temp[l+8:10]))\n",
    "            time_temp = date(int(temp[l:l+4]),1,1)\n",
    "\n",
    "            date_delta = time_temp1 - time_temp # 날짜 값 인덱스를 맞춰주기 위해 1더함\n",
    "            date_delta = date_delta.days + 1 # timedelta type의 변수라 에러 가 있었음\n",
    "\n",
    "            day_sin.append(normal_year.iloc[date_delta].sin_year)\n",
    "            day_cos.append(normal_year.iloc[date_delta].cos_year)\n",
    "\n",
    "        return day_sin, day_cos"
   ],
   "metadata": {
    "collapsed": false,
    "pycharm": {
     "name": "#%%\n"
    }
   }
  },
  {
   "cell_type": "code",
   "execution_count": 298,
   "outputs": [
    {
     "name": "stdout",
     "output_type": "stream",
     "text": [
      "3-0\n",
      "1983\n",
      "0001-01-01\n"
     ]
    }
   ],
   "source": [
    "venezia_data = pd.read_csv('venezia.csv')\n",
    "len(venezia_data)\n",
    "tester03 = venezia_data.datetime[1]\n",
    "print(tester03[3:6])\n",
    "re.search(r'\\d{4}-\\d{2}-\\d{2}',venezia_data.datetime[1])\n",
    "print(venezia_data.datetime[1][0:4])\n",
    "print(date(1,1,1))\n"
   ],
   "metadata": {
    "collapsed": false,
    "pycharm": {
     "name": "#%%\n"
    }
   }
  },
  {
   "cell_type": "code",
   "execution_count": 299,
   "outputs": [
    {
     "data": {
      "text/plain": "0.0344216116227457"
     },
     "execution_count": 299,
     "metadata": {},
     "output_type": "execute_result"
    }
   ],
   "source": [
    "venezia_data = pd.read_csv('venezia.csv')\n",
    "# time2SinCos = TimeEncoder.time2SinCos\n",
    "# sin_list,cos_list = time2SinCos(venezia_data.datetime)\n",
    "# len(sin_list)\n",
    "# print(len(venezia_data)//10000)\n",
    "# print(len(cos_list))\n",
    "# print(cos_list)\n",
    "day2SinCos = TimeEncoder.day2SinCos\n",
    "sin, cos = day2SinCos(venezia_data.datetime)\n",
    "\n",
    "\n",
    "# test = day2SinCos\n",
    "# test\n",
    "data = pd.read_csv('normal_year_table.csv')\n",
    "data.iloc[1].sin_year"
   ],
   "metadata": {
    "collapsed": false,
    "pycharm": {
     "name": "#%%\n"
    }
   }
  },
  {
   "cell_type": "code",
   "execution_count": 303,
   "outputs": [
    {
     "data": {
      "text/plain": "[0.0344216116227457,\n 0.0344216116227457,\n 0.0344216116227457,\n 0.0344216116227457,\n 0.0344216116227457,\n 0.0344216116227457,\n 0.0344216116227457,\n 0.0344216116227457,\n 0.0344216116227457,\n 0.0344216116227457,\n 0.0344216116227457,\n 0.0344216116227457,\n 0.0344216116227457,\n 0.0344216116227457,\n 0.0344216116227457,\n 0.0344216116227457,\n 0.0344216116227457,\n 0.0344216116227457,\n 0.0344216116227457,\n 0.0344216116227457,\n 0.0344216116227457,\n 0.0344216116227457,\n 0.0344216116227457,\n 0.0516196672232537,\n 0.0516196672232537,\n 0.0516196672232537,\n 0.0516196672232537,\n 0.0516196672232537]"
     },
     "execution_count": 303,
     "metadata": {},
     "output_type": "execute_result"
    }
   ],
   "source": [
    "cos"
   ],
   "metadata": {
    "collapsed": false,
    "pycharm": {
     "name": "#%%\n"
    }
   }
  }
 ],
 "metadata": {
  "kernelspec": {
   "display_name": "Python 3",
   "language": "python",
   "name": "python3"
  },
  "language_info": {
   "codemirror_mode": {
    "name": "ipython",
    "version": 2
   },
   "file_extension": ".py",
   "mimetype": "text/x-python",
   "name": "python",
   "nbconvert_exporter": "python",
   "pygments_lexer": "ipython2",
   "version": "2.7.6"
  }
 },
 "nbformat": 4,
 "nbformat_minor": 0
}